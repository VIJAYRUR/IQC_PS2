{
  "nbformat": 4,
  "nbformat_minor": 0,
  "metadata": {
    "colab": {
      "provenance": [],
      "authorship_tag": "ABX9TyN+/TxUvNf5TIlWXNvSL/p3",
      "include_colab_link": true
    },
    "kernelspec": {
      "name": "python3",
      "display_name": "Python 3"
    },
    "language_info": {
      "name": "python"
    }
  },
  "cells": [
    {
      "cell_type": "markdown",
      "metadata": {
        "id": "view-in-github",
        "colab_type": "text"
      },
      "source": [
        "<a href=\"https://colab.research.google.com/github/VIJAYRUR/DL/blob/main/saltPepper.ipynb\" target=\"_parent\"><img src=\"https://colab.research.google.com/assets/colab-badge.svg\" alt=\"Open In Colab\"/></a>"
      ]
    },
    {
      "cell_type": "code",
      "execution_count": null,
      "metadata": {
        "colab": {
          "base_uri": "https://localhost:8080/"
        },
        "id": "3BTeBnmqzxNP",
        "outputId": "5c80975f-5011-4f47-a029-c78c203a8432"
      },
      "outputs": [
        {
          "output_type": "stream",
          "name": "stdout",
          "text": [
            "Drive already mounted at /content/drive; to attempt to forcibly remount, call drive.mount(\"/content/drive\", force_remount=True).\n"
          ]
        }
      ],
      "source": [
        "from google.colab import drive\n",
        "drive.mount('/content/drive')"
      ]
    },
    {
      "cell_type": "code",
      "source": [
        "import os\n",
        "import cv2\n",
        "import numpy as np"
      ],
      "metadata": {
        "id": "f2_z_I740Fac"
      },
      "execution_count": null,
      "outputs": []
    },
    {
      "cell_type": "code",
      "source": [
        "# Define the paths\n",
        "input_folder = '/content/drive/MyDrive/1stnoise/2ndcopy'\n",
        "output_folder = '/content/drive/MyDrive/1stnoise/noise2_introduced'"
      ],
      "metadata": {
        "id": "ZmfW2vBP0XJQ"
      },
      "execution_count": null,
      "outputs": []
    },
    {
      "cell_type": "code",
      "source": [
        "# Create the output folder if it doesn't exist\n",
        "if not os.path.exists(output_folder):\n",
        "    os.makedirs(output_folder)"
      ],
      "metadata": {
        "id": "aoIOE8yJ0ZMs"
      },
      "execution_count": null,
      "outputs": []
    },
    {
      "cell_type": "code",
      "source": [
        "def add_salt_pepper_noise(image, noise_amount):\n",
        "    row, col, _ = image.shape\n",
        "    noise_image = np.copy(image)\n",
        "\n",
        "    # Randomly select the region to add noise\n",
        "    x = np.random.randint(0, col // 2)  # Update the range according to your image dimensions\n",
        "    y = np.random.randint(0, row // 2)  # Update the range according to your image dimensions\n",
        "    width = np.random.randint(10, col - x)  # Update the range and adjust as desired\n",
        "    height = np.random.randint(10, row - y)  # Update the range and adjust as desired\n",
        "\n",
        "    # Calculate the number of pixels to be modified\n",
        "    region_pixels = width * height\n",
        "    noise_pixels = int(noise_amount * region_pixels)\n",
        "\n",
        "    # Add salt noise to the region\n",
        "    coords = [np.random.randint(0, i - 1, noise_pixels) for i in noise_image[y:y+height, x:x+width, :].shape]\n",
        "    noise_image[y:y+height, x:x+width, :][coords[0], coords[1], :] = 255\n",
        "\n",
        "    # Add pepper noise to the region\n",
        "    coords = [np.random.randint(0, i - 1, noise_pixels) for i in noise_image[y:y+height, x:x+width, :].shape]\n",
        "    noise_image[y:y+height, x:x+width, :][coords[0], coords[1], :] = 0\n",
        "\n",
        "    return noise_image\n"
      ],
      "metadata": {
        "id": "WY6qkKC40hIa"
      },
      "execution_count": null,
      "outputs": []
    },
    {
      "cell_type": "code",
      "source": [
        "# Add salt and pepper noise to images and save them in the output folder\n",
        "for image_name in os.listdir(input_folder):\n",
        "    image_path = os.path.join(input_folder, image_name)\n",
        "    image = cv2.imread(image_path)\n",
        "\n",
        "    noisy_image = add_salt_pepper_noise(image, noise_amount=0.1)\n",
        "\n",
        "    output_path = os.path.join(output_folder, image_name)\n",
        "    cv2.imwrite(output_path, noisy_image)\n",
        "\n",
        "    print(f\"Noise added to image: {image_name}\")"
      ],
      "metadata": {
        "colab": {
          "base_uri": "https://localhost:8080/"
        },
        "id": "vr1Zliul0tDF",
        "outputId": "11eda955-4cf4-4c44-9ada-e48452d1aa46"
      },
      "execution_count": null,
      "outputs": [
        {
          "output_type": "stream",
          "name": "stdout",
          "text": [
            "Noise added to image: split_0.jpg\n",
            "Noise added to image: split_3.jpg\n",
            "Noise added to image: split_6.jpg\n",
            "Noise added to image: split_9.jpg\n",
            "Noise added to image: split_12.jpg\n",
            "Noise added to image: split_15.jpg\n",
            "Noise added to image: split_18.jpg\n",
            "Noise added to image: split_21.jpg\n",
            "Noise added to image: split_24.jpg\n",
            "Noise added to image: split_27.jpg\n",
            "Noise added to image: split_30.jpg\n",
            "Noise added to image: split_33.jpg\n",
            "Noise added to image: split_36.jpg\n",
            "Noise added to image: split_39.jpg\n",
            "Noise added to image: split_42.jpg\n",
            "Noise added to image: split_45.jpg\n",
            "Noise added to image: split_48.jpg\n",
            "Noise added to image: split_51.jpg\n",
            "Noise added to image: split_54.jpg\n",
            "Noise added to image: split_57.jpg\n",
            "Noise added to image: split_60.jpg\n",
            "Noise added to image: split_63.jpg\n",
            "Noise added to image: split_66.jpg\n",
            "Noise added to image: split_69.jpg\n",
            "Noise added to image: split_72.jpg\n",
            "Noise added to image: split_75.jpg\n",
            "Noise added to image: split_78.jpg\n",
            "Noise added to image: split_81.jpg\n",
            "Noise added to image: split_84.jpg\n",
            "Noise added to image: split_87.jpg\n",
            "Noise added to image: split_90.jpg\n",
            "Noise added to image: split_93.jpg\n",
            "Noise added to image: split_96.jpg\n",
            "Noise added to image: split_99.jpg\n",
            "Noise added to image: split_102.jpg\n",
            "Noise added to image: split_105.jpg\n",
            "Noise added to image: split_108.jpg\n",
            "Noise added to image: split_111.jpg\n",
            "Noise added to image: split_114.jpg\n",
            "Noise added to image: split_117.jpg\n",
            "Noise added to image: split_120.jpg\n",
            "Noise added to image: split_123.jpg\n",
            "Noise added to image: split_126.jpg\n",
            "Noise added to image: split_129.jpg\n",
            "Noise added to image: split_132.jpg\n",
            "Noise added to image: split_135.jpg\n",
            "Noise added to image: split_138.jpg\n",
            "Noise added to image: split_141.jpg\n",
            "Noise added to image: split_144.jpg\n",
            "Noise added to image: split_147.jpg\n",
            "Noise added to image: split_150.jpg\n",
            "Noise added to image: split_153.jpg\n",
            "Noise added to image: split_156.jpg\n",
            "Noise added to image: split_159.jpg\n",
            "Noise added to image: split_162.jpg\n",
            "Noise added to image: split_165.jpg\n",
            "Noise added to image: split_168.jpg\n",
            "Noise added to image: split_171.jpg\n",
            "Noise added to image: split_174.jpg\n",
            "Noise added to image: split_177.jpg\n",
            "Noise added to image: split_180.jpg\n",
            "Noise added to image: split_183.jpg\n",
            "Noise added to image: split_186.jpg\n",
            "Noise added to image: split_189.jpg\n",
            "Noise added to image: split_192.jpg\n",
            "Noise added to image: split_195.jpg\n",
            "Noise added to image: split_198.jpg\n",
            "Noise added to image: split_201.jpg\n",
            "Noise added to image: split_204.jpg\n",
            "Noise added to image: split_207.jpg\n",
            "Noise added to image: split_210.jpg\n",
            "Noise added to image: split_213.jpg\n",
            "Noise added to image: split_216.jpg\n",
            "Noise added to image: split_219.jpg\n",
            "Noise added to image: split_222.jpg\n",
            "Noise added to image: split_225.jpg\n",
            "Noise added to image: split_228.jpg\n",
            "Noise added to image: split_231.jpg\n",
            "Noise added to image: split_234.jpg\n",
            "Noise added to image: split_237.jpg\n",
            "Noise added to image: split_240.jpg\n",
            "Noise added to image: split_243.jpg\n",
            "Noise added to image: split_246.jpg\n",
            "Noise added to image: split_249.jpg\n",
            "Noise added to image: split_252.jpg\n",
            "Noise added to image: split_255.jpg\n",
            "Noise added to image: split_258.jpg\n",
            "Noise added to image: split_261.jpg\n",
            "Noise added to image: split_264.jpg\n",
            "Noise added to image: split_267.jpg\n",
            "Noise added to image: split_270.jpg\n",
            "Noise added to image: split_273.jpg\n",
            "Noise added to image: split_276.jpg\n",
            "Noise added to image: split_279.jpg\n",
            "Noise added to image: split_282.jpg\n",
            "Noise added to image: split_285.jpg\n",
            "Noise added to image: split_288.jpg\n"
          ]
        }
      ]
    },
    {
      "cell_type": "code",
      "source": [],
      "metadata": {
        "id": "btn6cWZu0vry"
      },
      "execution_count": null,
      "outputs": []
    }
  ]
}