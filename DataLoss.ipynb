{
  "nbformat": 4,
  "nbformat_minor": 0,
  "metadata": {
    "colab": {
      "provenance": [],
      "authorship_tag": "ABX9TyNPlhU3oYKwzKSVvr1lUAQ8",
      "include_colab_link": true
    },
    "kernelspec": {
      "name": "python3",
      "display_name": "Python 3"
    },
    "language_info": {
      "name": "python"
    }
  },
  "cells": [
    {
      "cell_type": "markdown",
      "metadata": {
        "id": "view-in-github",
        "colab_type": "text"
      },
      "source": [
        "<a href=\"https://colab.research.google.com/github/VIJAYRUR/DL/blob/main/DataLoss.ipynb\" target=\"_parent\"><img src=\"https://colab.research.google.com/assets/colab-badge.svg\" alt=\"Open In Colab\"/></a>"
      ]
    },
    {
      "cell_type": "code",
      "execution_count": null,
      "metadata": {
        "id": "k6AxiI9q4O6H"
      },
      "outputs": [],
      "source": [
        "import os\n",
        "import cv2\n",
        "import numpy as np\n",
        "from google.colab import drive\n"
      ]
    },
    {
      "cell_type": "code",
      "source": [
        "# Mount Google Drive\n",
        "drive.mount('/content/drive')\n",
        "\n",
        "# Define the paths\n",
        "input_folder = '/content/drive/MyDrive/1stnoise/2ndcopy'\n",
        "output_folder = '/content/drive/MyDrive/1stnoise/noise3_introduced'"
      ],
      "metadata": {
        "colab": {
          "base_uri": "https://localhost:8080/"
        },
        "id": "WTVWuZrE4UkM",
        "outputId": "b2bee7da-46fd-448b-f5ef-20c307afc121"
      },
      "execution_count": null,
      "outputs": [
        {
          "output_type": "stream",
          "name": "stdout",
          "text": [
            "Drive already mounted at /content/drive; to attempt to forcibly remount, call drive.mount(\"/content/drive\", force_remount=True).\n"
          ]
        }
      ]
    },
    {
      "cell_type": "code",
      "source": [
        "# Create the output folder if it doesn't exist\n",
        "if not os.path.exists(output_folder):\n",
        "    os.makedirs(output_folder)\n"
      ],
      "metadata": {
        "id": "j1_wgeMS4Yqa"
      },
      "execution_count": null,
      "outputs": []
    },
    {
      "cell_type": "code",
      "source": [
        "# Function to add data loss noise to a randomly selected region in an image\n",
        "def add_data_loss_noise(image, loss_amount):\n",
        "    row, col, _ = image.shape\n",
        "    noise_image = np.copy(image)\n",
        "\n",
        "    # Randomly select the region for data loss\n",
        "    x = np.random.randint(0, col // 2)  # Update the range according to your image dimensions\n",
        "    y = np.random.randint(0, row // 2)  # Update the range according to your image dimensions\n",
        "    width = np.random.randint(10, col // 10)  # Update the range and adjust as desired\n",
        "    height = np.random.randint(10, row // 10)  # Update the range and adjust as desired\n",
        "\n",
        "    # Apply data loss to the region\n",
        "    noise_image[y:y+height, x:x+width, :] = 0\n",
        "\n",
        "    return noise_image"
      ],
      "metadata": {
        "id": "RBORA9Qr4ioV"
      },
      "execution_count": null,
      "outputs": []
    },
    {
      "cell_type": "code",
      "source": [
        "# Add data loss noise to images and save them in the output folder\n",
        "for image_name in os.listdir(input_folder):\n",
        "    image_path = os.path.join(input_folder, image_name)\n",
        "    image = cv2.imread(image_path)\n",
        "\n",
        "    noisy_image = add_data_loss_noise(image, loss_amount=0.1)\n",
        "\n",
        "    output_path = os.path.join(output_folder, image_name)\n",
        "    cv2.imwrite(output_path, noisy_image)\n",
        "\n",
        "    print(f\"Data loss added to image: {image_name}\")"
      ],
      "metadata": {
        "colab": {
          "base_uri": "https://localhost:8080/"
        },
        "id": "9iBhyNbb4kyZ",
        "outputId": "b18213d8-ec86-4671-87d2-ec9a32eef7a0"
      },
      "execution_count": null,
      "outputs": [
        {
          "output_type": "stream",
          "name": "stdout",
          "text": [
            "Data loss added to image: split_0.jpg\n",
            "Data loss added to image: split_3.jpg\n",
            "Data loss added to image: split_6.jpg\n",
            "Data loss added to image: split_9.jpg\n",
            "Data loss added to image: split_12.jpg\n",
            "Data loss added to image: split_15.jpg\n",
            "Data loss added to image: split_18.jpg\n",
            "Data loss added to image: split_21.jpg\n",
            "Data loss added to image: split_24.jpg\n",
            "Data loss added to image: split_27.jpg\n",
            "Data loss added to image: split_30.jpg\n",
            "Data loss added to image: split_33.jpg\n",
            "Data loss added to image: split_36.jpg\n",
            "Data loss added to image: split_39.jpg\n",
            "Data loss added to image: split_42.jpg\n",
            "Data loss added to image: split_45.jpg\n",
            "Data loss added to image: split_48.jpg\n",
            "Data loss added to image: split_51.jpg\n",
            "Data loss added to image: split_54.jpg\n",
            "Data loss added to image: split_57.jpg\n",
            "Data loss added to image: split_60.jpg\n",
            "Data loss added to image: split_63.jpg\n",
            "Data loss added to image: split_66.jpg\n",
            "Data loss added to image: split_69.jpg\n",
            "Data loss added to image: split_72.jpg\n",
            "Data loss added to image: split_75.jpg\n",
            "Data loss added to image: split_78.jpg\n",
            "Data loss added to image: split_81.jpg\n",
            "Data loss added to image: split_84.jpg\n",
            "Data loss added to image: split_87.jpg\n",
            "Data loss added to image: split_90.jpg\n",
            "Data loss added to image: split_93.jpg\n",
            "Data loss added to image: split_96.jpg\n",
            "Data loss added to image: split_99.jpg\n",
            "Data loss added to image: split_102.jpg\n",
            "Data loss added to image: split_105.jpg\n",
            "Data loss added to image: split_108.jpg\n",
            "Data loss added to image: split_111.jpg\n",
            "Data loss added to image: split_114.jpg\n",
            "Data loss added to image: split_117.jpg\n",
            "Data loss added to image: split_120.jpg\n",
            "Data loss added to image: split_123.jpg\n",
            "Data loss added to image: split_126.jpg\n",
            "Data loss added to image: split_129.jpg\n",
            "Data loss added to image: split_132.jpg\n",
            "Data loss added to image: split_135.jpg\n",
            "Data loss added to image: split_138.jpg\n",
            "Data loss added to image: split_141.jpg\n",
            "Data loss added to image: split_144.jpg\n",
            "Data loss added to image: split_147.jpg\n",
            "Data loss added to image: split_150.jpg\n",
            "Data loss added to image: split_153.jpg\n",
            "Data loss added to image: split_156.jpg\n",
            "Data loss added to image: split_159.jpg\n",
            "Data loss added to image: split_162.jpg\n",
            "Data loss added to image: split_165.jpg\n",
            "Data loss added to image: split_168.jpg\n",
            "Data loss added to image: split_171.jpg\n",
            "Data loss added to image: split_174.jpg\n",
            "Data loss added to image: split_177.jpg\n",
            "Data loss added to image: split_180.jpg\n",
            "Data loss added to image: split_183.jpg\n",
            "Data loss added to image: split_186.jpg\n",
            "Data loss added to image: split_189.jpg\n",
            "Data loss added to image: split_192.jpg\n",
            "Data loss added to image: split_195.jpg\n",
            "Data loss added to image: split_198.jpg\n",
            "Data loss added to image: split_201.jpg\n",
            "Data loss added to image: split_204.jpg\n",
            "Data loss added to image: split_207.jpg\n",
            "Data loss added to image: split_210.jpg\n",
            "Data loss added to image: split_213.jpg\n",
            "Data loss added to image: split_216.jpg\n",
            "Data loss added to image: split_219.jpg\n",
            "Data loss added to image: split_222.jpg\n",
            "Data loss added to image: split_225.jpg\n",
            "Data loss added to image: split_228.jpg\n",
            "Data loss added to image: split_231.jpg\n",
            "Data loss added to image: split_234.jpg\n",
            "Data loss added to image: split_237.jpg\n",
            "Data loss added to image: split_240.jpg\n",
            "Data loss added to image: split_243.jpg\n",
            "Data loss added to image: split_246.jpg\n",
            "Data loss added to image: split_249.jpg\n",
            "Data loss added to image: split_252.jpg\n",
            "Data loss added to image: split_255.jpg\n",
            "Data loss added to image: split_258.jpg\n",
            "Data loss added to image: split_261.jpg\n",
            "Data loss added to image: split_264.jpg\n",
            "Data loss added to image: split_267.jpg\n",
            "Data loss added to image: split_270.jpg\n",
            "Data loss added to image: split_273.jpg\n",
            "Data loss added to image: split_276.jpg\n",
            "Data loss added to image: split_279.jpg\n",
            "Data loss added to image: split_282.jpg\n",
            "Data loss added to image: split_285.jpg\n",
            "Data loss added to image: split_288.jpg\n"
          ]
        }
      ]
    },
    {
      "cell_type": "code",
      "source": [],
      "metadata": {
        "id": "Aq8pe0LB4mm8"
      },
      "execution_count": null,
      "outputs": []
    }
  ]
}